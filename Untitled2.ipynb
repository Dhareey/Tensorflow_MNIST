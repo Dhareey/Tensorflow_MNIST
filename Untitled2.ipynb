{
  "nbformat": 4,
  "nbformat_minor": 0,
  "metadata": {
    "colab": {
      "name": "Untitled2.ipynb",
      "provenance": [],
      "collapsed_sections": [],
      "authorship_tag": "ABX9TyN4gMuclaXRIbKEfZ7FvK8c",
      "include_colab_link": true
    },
    "kernelspec": {
      "display_name": "Python 3",
      "name": "python3"
    }
  },
  "cells": [
    {
      "cell_type": "markdown",
      "metadata": {
        "id": "view-in-github",
        "colab_type": "text"
      },
      "source": [
        "<a href=\"https://colab.research.google.com/github/Dhareey/Tensorflow_MNIST/blob/main/Untitled2.ipynb\" target=\"_parent\"><img src=\"https://colab.research.google.com/assets/colab-badge.svg\" alt=\"Open In Colab\"/></a>"
      ]
    },
    {
      "cell_type": "code",
      "metadata": {
        "id": "0rstisJJ8nKo"
      },
      "source": [
        "# This Notebook is my Deep Learning Tuturial. Simply put, i will run a single layer perceptron on a dataset using both tensorflow and pytorch\n",
        "# Number of Epochs = 500.\n",
        "# Data to be used is the "
      ],
      "execution_count": null,
      "outputs": []
    },
    {
      "cell_type": "code",
      "metadata": {
        "id": "BroCKEtg-M69"
      },
      "source": [
        "# Import Data\n",
        "import pandas as pd\n",
        "import numpy as np\n",
        "from tensorflow import keras\n",
        "from tensorflow.keras import layers\n",
        "import torch\n",
        "from torch import nn\n",
        "train_data = pd.read_csv('/content/sample_data/mnist_train_small.csv')\n",
        "test_data = pd.read_csv('/content/sample_data/mnist_test.csv')"
      ],
      "execution_count": 1,
      "outputs": []
    },
    {
      "cell_type": "code",
      "metadata": {
        "colab": {
          "base_uri": "https://localhost:8080/",
          "height": 246
        },
        "id": "LOadNZ8qVzbP",
        "outputId": "4d164657-1cc3-4618-d70b-3020d8040b6b"
      },
      "source": [
        "train_data.head()"
      ],
      "execution_count": 2,
      "outputs": [
        {
          "output_type": "execute_result",
          "data": {
            "text/html": [
              "<div>\n",
              "<style scoped>\n",
              "    .dataframe tbody tr th:only-of-type {\n",
              "        vertical-align: middle;\n",
              "    }\n",
              "\n",
              "    .dataframe tbody tr th {\n",
              "        vertical-align: top;\n",
              "    }\n",
              "\n",
              "    .dataframe thead th {\n",
              "        text-align: right;\n",
              "    }\n",
              "</style>\n",
              "<table border=\"1\" class=\"dataframe\">\n",
              "  <thead>\n",
              "    <tr style=\"text-align: right;\">\n",
              "      <th></th>\n",
              "      <th>6</th>\n",
              "      <th>0</th>\n",
              "      <th>0.1</th>\n",
              "      <th>0.2</th>\n",
              "      <th>0.3</th>\n",
              "      <th>0.4</th>\n",
              "      <th>0.5</th>\n",
              "      <th>0.6</th>\n",
              "      <th>0.7</th>\n",
              "      <th>0.8</th>\n",
              "      <th>0.9</th>\n",
              "      <th>0.10</th>\n",
              "      <th>0.11</th>\n",
              "      <th>0.12</th>\n",
              "      <th>0.13</th>\n",
              "      <th>0.14</th>\n",
              "      <th>0.15</th>\n",
              "      <th>0.16</th>\n",
              "      <th>0.17</th>\n",
              "      <th>0.18</th>\n",
              "      <th>0.19</th>\n",
              "      <th>0.20</th>\n",
              "      <th>0.21</th>\n",
              "      <th>0.22</th>\n",
              "      <th>0.23</th>\n",
              "      <th>0.24</th>\n",
              "      <th>0.25</th>\n",
              "      <th>0.26</th>\n",
              "      <th>0.27</th>\n",
              "      <th>0.28</th>\n",
              "      <th>0.29</th>\n",
              "      <th>0.30</th>\n",
              "      <th>0.31</th>\n",
              "      <th>0.32</th>\n",
              "      <th>0.33</th>\n",
              "      <th>0.34</th>\n",
              "      <th>0.35</th>\n",
              "      <th>0.36</th>\n",
              "      <th>0.37</th>\n",
              "      <th>0.38</th>\n",
              "      <th>...</th>\n",
              "      <th>0.551</th>\n",
              "      <th>0.552</th>\n",
              "      <th>0.553</th>\n",
              "      <th>0.554</th>\n",
              "      <th>0.555</th>\n",
              "      <th>0.556</th>\n",
              "      <th>0.557</th>\n",
              "      <th>0.558</th>\n",
              "      <th>0.559</th>\n",
              "      <th>0.560</th>\n",
              "      <th>0.561</th>\n",
              "      <th>0.562</th>\n",
              "      <th>0.563</th>\n",
              "      <th>0.564</th>\n",
              "      <th>0.565</th>\n",
              "      <th>0.566</th>\n",
              "      <th>0.567</th>\n",
              "      <th>0.568</th>\n",
              "      <th>0.569</th>\n",
              "      <th>0.570</th>\n",
              "      <th>0.571</th>\n",
              "      <th>0.572</th>\n",
              "      <th>0.573</th>\n",
              "      <th>0.574</th>\n",
              "      <th>0.575</th>\n",
              "      <th>0.576</th>\n",
              "      <th>0.577</th>\n",
              "      <th>0.578</th>\n",
              "      <th>0.579</th>\n",
              "      <th>0.580</th>\n",
              "      <th>0.581</th>\n",
              "      <th>0.582</th>\n",
              "      <th>0.583</th>\n",
              "      <th>0.584</th>\n",
              "      <th>0.585</th>\n",
              "      <th>0.586</th>\n",
              "      <th>0.587</th>\n",
              "      <th>0.588</th>\n",
              "      <th>0.589</th>\n",
              "      <th>0.590</th>\n",
              "    </tr>\n",
              "  </thead>\n",
              "  <tbody>\n",
              "    <tr>\n",
              "      <th>0</th>\n",
              "      <td>5</td>\n",
              "      <td>0</td>\n",
              "      <td>0</td>\n",
              "      <td>0</td>\n",
              "      <td>0</td>\n",
              "      <td>0</td>\n",
              "      <td>0</td>\n",
              "      <td>0</td>\n",
              "      <td>0</td>\n",
              "      <td>0</td>\n",
              "      <td>0</td>\n",
              "      <td>0</td>\n",
              "      <td>0</td>\n",
              "      <td>0</td>\n",
              "      <td>0</td>\n",
              "      <td>0</td>\n",
              "      <td>0</td>\n",
              "      <td>0</td>\n",
              "      <td>0</td>\n",
              "      <td>0</td>\n",
              "      <td>0</td>\n",
              "      <td>0</td>\n",
              "      <td>0</td>\n",
              "      <td>0</td>\n",
              "      <td>0</td>\n",
              "      <td>0</td>\n",
              "      <td>0</td>\n",
              "      <td>0</td>\n",
              "      <td>0</td>\n",
              "      <td>0</td>\n",
              "      <td>0</td>\n",
              "      <td>0</td>\n",
              "      <td>0</td>\n",
              "      <td>0</td>\n",
              "      <td>0</td>\n",
              "      <td>0</td>\n",
              "      <td>0</td>\n",
              "      <td>0</td>\n",
              "      <td>0</td>\n",
              "      <td>0</td>\n",
              "      <td>...</td>\n",
              "      <td>0</td>\n",
              "      <td>0</td>\n",
              "      <td>0</td>\n",
              "      <td>0</td>\n",
              "      <td>0</td>\n",
              "      <td>0</td>\n",
              "      <td>0</td>\n",
              "      <td>0</td>\n",
              "      <td>0</td>\n",
              "      <td>0</td>\n",
              "      <td>0</td>\n",
              "      <td>0</td>\n",
              "      <td>0</td>\n",
              "      <td>0</td>\n",
              "      <td>0</td>\n",
              "      <td>0</td>\n",
              "      <td>0</td>\n",
              "      <td>0</td>\n",
              "      <td>0</td>\n",
              "      <td>0</td>\n",
              "      <td>0</td>\n",
              "      <td>0</td>\n",
              "      <td>0</td>\n",
              "      <td>0</td>\n",
              "      <td>0</td>\n",
              "      <td>0</td>\n",
              "      <td>0</td>\n",
              "      <td>0</td>\n",
              "      <td>0</td>\n",
              "      <td>0</td>\n",
              "      <td>0</td>\n",
              "      <td>0</td>\n",
              "      <td>0</td>\n",
              "      <td>0</td>\n",
              "      <td>0</td>\n",
              "      <td>0</td>\n",
              "      <td>0</td>\n",
              "      <td>0</td>\n",
              "      <td>0</td>\n",
              "      <td>0</td>\n",
              "    </tr>\n",
              "    <tr>\n",
              "      <th>1</th>\n",
              "      <td>7</td>\n",
              "      <td>0</td>\n",
              "      <td>0</td>\n",
              "      <td>0</td>\n",
              "      <td>0</td>\n",
              "      <td>0</td>\n",
              "      <td>0</td>\n",
              "      <td>0</td>\n",
              "      <td>0</td>\n",
              "      <td>0</td>\n",
              "      <td>0</td>\n",
              "      <td>0</td>\n",
              "      <td>0</td>\n",
              "      <td>0</td>\n",
              "      <td>0</td>\n",
              "      <td>0</td>\n",
              "      <td>0</td>\n",
              "      <td>0</td>\n",
              "      <td>0</td>\n",
              "      <td>0</td>\n",
              "      <td>0</td>\n",
              "      <td>0</td>\n",
              "      <td>0</td>\n",
              "      <td>0</td>\n",
              "      <td>0</td>\n",
              "      <td>0</td>\n",
              "      <td>0</td>\n",
              "      <td>0</td>\n",
              "      <td>0</td>\n",
              "      <td>0</td>\n",
              "      <td>0</td>\n",
              "      <td>0</td>\n",
              "      <td>0</td>\n",
              "      <td>0</td>\n",
              "      <td>0</td>\n",
              "      <td>0</td>\n",
              "      <td>0</td>\n",
              "      <td>0</td>\n",
              "      <td>0</td>\n",
              "      <td>0</td>\n",
              "      <td>...</td>\n",
              "      <td>0</td>\n",
              "      <td>0</td>\n",
              "      <td>0</td>\n",
              "      <td>0</td>\n",
              "      <td>0</td>\n",
              "      <td>0</td>\n",
              "      <td>0</td>\n",
              "      <td>0</td>\n",
              "      <td>0</td>\n",
              "      <td>0</td>\n",
              "      <td>0</td>\n",
              "      <td>0</td>\n",
              "      <td>0</td>\n",
              "      <td>0</td>\n",
              "      <td>0</td>\n",
              "      <td>0</td>\n",
              "      <td>0</td>\n",
              "      <td>0</td>\n",
              "      <td>0</td>\n",
              "      <td>0</td>\n",
              "      <td>0</td>\n",
              "      <td>0</td>\n",
              "      <td>0</td>\n",
              "      <td>0</td>\n",
              "      <td>0</td>\n",
              "      <td>0</td>\n",
              "      <td>0</td>\n",
              "      <td>0</td>\n",
              "      <td>0</td>\n",
              "      <td>0</td>\n",
              "      <td>0</td>\n",
              "      <td>0</td>\n",
              "      <td>0</td>\n",
              "      <td>0</td>\n",
              "      <td>0</td>\n",
              "      <td>0</td>\n",
              "      <td>0</td>\n",
              "      <td>0</td>\n",
              "      <td>0</td>\n",
              "      <td>0</td>\n",
              "    </tr>\n",
              "    <tr>\n",
              "      <th>2</th>\n",
              "      <td>9</td>\n",
              "      <td>0</td>\n",
              "      <td>0</td>\n",
              "      <td>0</td>\n",
              "      <td>0</td>\n",
              "      <td>0</td>\n",
              "      <td>0</td>\n",
              "      <td>0</td>\n",
              "      <td>0</td>\n",
              "      <td>0</td>\n",
              "      <td>0</td>\n",
              "      <td>0</td>\n",
              "      <td>0</td>\n",
              "      <td>0</td>\n",
              "      <td>0</td>\n",
              "      <td>0</td>\n",
              "      <td>0</td>\n",
              "      <td>0</td>\n",
              "      <td>0</td>\n",
              "      <td>0</td>\n",
              "      <td>0</td>\n",
              "      <td>0</td>\n",
              "      <td>0</td>\n",
              "      <td>0</td>\n",
              "      <td>0</td>\n",
              "      <td>0</td>\n",
              "      <td>0</td>\n",
              "      <td>0</td>\n",
              "      <td>0</td>\n",
              "      <td>0</td>\n",
              "      <td>0</td>\n",
              "      <td>0</td>\n",
              "      <td>0</td>\n",
              "      <td>0</td>\n",
              "      <td>0</td>\n",
              "      <td>0</td>\n",
              "      <td>0</td>\n",
              "      <td>0</td>\n",
              "      <td>0</td>\n",
              "      <td>0</td>\n",
              "      <td>...</td>\n",
              "      <td>15</td>\n",
              "      <td>0</td>\n",
              "      <td>0</td>\n",
              "      <td>0</td>\n",
              "      <td>0</td>\n",
              "      <td>0</td>\n",
              "      <td>0</td>\n",
              "      <td>0</td>\n",
              "      <td>0</td>\n",
              "      <td>0</td>\n",
              "      <td>0</td>\n",
              "      <td>0</td>\n",
              "      <td>0</td>\n",
              "      <td>0</td>\n",
              "      <td>0</td>\n",
              "      <td>0</td>\n",
              "      <td>0</td>\n",
              "      <td>0</td>\n",
              "      <td>0</td>\n",
              "      <td>0</td>\n",
              "      <td>0</td>\n",
              "      <td>0</td>\n",
              "      <td>0</td>\n",
              "      <td>0</td>\n",
              "      <td>0</td>\n",
              "      <td>0</td>\n",
              "      <td>0</td>\n",
              "      <td>0</td>\n",
              "      <td>0</td>\n",
              "      <td>0</td>\n",
              "      <td>0</td>\n",
              "      <td>0</td>\n",
              "      <td>0</td>\n",
              "      <td>0</td>\n",
              "      <td>0</td>\n",
              "      <td>0</td>\n",
              "      <td>0</td>\n",
              "      <td>0</td>\n",
              "      <td>0</td>\n",
              "      <td>0</td>\n",
              "    </tr>\n",
              "    <tr>\n",
              "      <th>3</th>\n",
              "      <td>5</td>\n",
              "      <td>0</td>\n",
              "      <td>0</td>\n",
              "      <td>0</td>\n",
              "      <td>0</td>\n",
              "      <td>0</td>\n",
              "      <td>0</td>\n",
              "      <td>0</td>\n",
              "      <td>0</td>\n",
              "      <td>0</td>\n",
              "      <td>0</td>\n",
              "      <td>0</td>\n",
              "      <td>0</td>\n",
              "      <td>0</td>\n",
              "      <td>0</td>\n",
              "      <td>0</td>\n",
              "      <td>0</td>\n",
              "      <td>0</td>\n",
              "      <td>0</td>\n",
              "      <td>0</td>\n",
              "      <td>0</td>\n",
              "      <td>0</td>\n",
              "      <td>0</td>\n",
              "      <td>0</td>\n",
              "      <td>0</td>\n",
              "      <td>0</td>\n",
              "      <td>0</td>\n",
              "      <td>0</td>\n",
              "      <td>0</td>\n",
              "      <td>0</td>\n",
              "      <td>0</td>\n",
              "      <td>0</td>\n",
              "      <td>0</td>\n",
              "      <td>0</td>\n",
              "      <td>0</td>\n",
              "      <td>0</td>\n",
              "      <td>0</td>\n",
              "      <td>0</td>\n",
              "      <td>0</td>\n",
              "      <td>0</td>\n",
              "      <td>...</td>\n",
              "      <td>0</td>\n",
              "      <td>0</td>\n",
              "      <td>0</td>\n",
              "      <td>0</td>\n",
              "      <td>0</td>\n",
              "      <td>0</td>\n",
              "      <td>0</td>\n",
              "      <td>0</td>\n",
              "      <td>0</td>\n",
              "      <td>0</td>\n",
              "      <td>0</td>\n",
              "      <td>0</td>\n",
              "      <td>0</td>\n",
              "      <td>0</td>\n",
              "      <td>0</td>\n",
              "      <td>0</td>\n",
              "      <td>0</td>\n",
              "      <td>0</td>\n",
              "      <td>0</td>\n",
              "      <td>0</td>\n",
              "      <td>0</td>\n",
              "      <td>0</td>\n",
              "      <td>0</td>\n",
              "      <td>0</td>\n",
              "      <td>0</td>\n",
              "      <td>0</td>\n",
              "      <td>0</td>\n",
              "      <td>0</td>\n",
              "      <td>0</td>\n",
              "      <td>0</td>\n",
              "      <td>0</td>\n",
              "      <td>0</td>\n",
              "      <td>0</td>\n",
              "      <td>0</td>\n",
              "      <td>0</td>\n",
              "      <td>0</td>\n",
              "      <td>0</td>\n",
              "      <td>0</td>\n",
              "      <td>0</td>\n",
              "      <td>0</td>\n",
              "    </tr>\n",
              "    <tr>\n",
              "      <th>4</th>\n",
              "      <td>2</td>\n",
              "      <td>0</td>\n",
              "      <td>0</td>\n",
              "      <td>0</td>\n",
              "      <td>0</td>\n",
              "      <td>0</td>\n",
              "      <td>0</td>\n",
              "      <td>0</td>\n",
              "      <td>0</td>\n",
              "      <td>0</td>\n",
              "      <td>0</td>\n",
              "      <td>0</td>\n",
              "      <td>0</td>\n",
              "      <td>0</td>\n",
              "      <td>0</td>\n",
              "      <td>0</td>\n",
              "      <td>0</td>\n",
              "      <td>0</td>\n",
              "      <td>0</td>\n",
              "      <td>0</td>\n",
              "      <td>0</td>\n",
              "      <td>0</td>\n",
              "      <td>0</td>\n",
              "      <td>0</td>\n",
              "      <td>0</td>\n",
              "      <td>0</td>\n",
              "      <td>0</td>\n",
              "      <td>0</td>\n",
              "      <td>0</td>\n",
              "      <td>0</td>\n",
              "      <td>0</td>\n",
              "      <td>0</td>\n",
              "      <td>0</td>\n",
              "      <td>0</td>\n",
              "      <td>0</td>\n",
              "      <td>0</td>\n",
              "      <td>0</td>\n",
              "      <td>0</td>\n",
              "      <td>0</td>\n",
              "      <td>0</td>\n",
              "      <td>...</td>\n",
              "      <td>0</td>\n",
              "      <td>0</td>\n",
              "      <td>0</td>\n",
              "      <td>0</td>\n",
              "      <td>0</td>\n",
              "      <td>0</td>\n",
              "      <td>0</td>\n",
              "      <td>0</td>\n",
              "      <td>0</td>\n",
              "      <td>0</td>\n",
              "      <td>0</td>\n",
              "      <td>0</td>\n",
              "      <td>0</td>\n",
              "      <td>0</td>\n",
              "      <td>0</td>\n",
              "      <td>0</td>\n",
              "      <td>0</td>\n",
              "      <td>0</td>\n",
              "      <td>0</td>\n",
              "      <td>0</td>\n",
              "      <td>0</td>\n",
              "      <td>0</td>\n",
              "      <td>0</td>\n",
              "      <td>0</td>\n",
              "      <td>0</td>\n",
              "      <td>0</td>\n",
              "      <td>0</td>\n",
              "      <td>0</td>\n",
              "      <td>0</td>\n",
              "      <td>0</td>\n",
              "      <td>0</td>\n",
              "      <td>0</td>\n",
              "      <td>0</td>\n",
              "      <td>0</td>\n",
              "      <td>0</td>\n",
              "      <td>0</td>\n",
              "      <td>0</td>\n",
              "      <td>0</td>\n",
              "      <td>0</td>\n",
              "      <td>0</td>\n",
              "    </tr>\n",
              "  </tbody>\n",
              "</table>\n",
              "<p>5 rows × 785 columns</p>\n",
              "</div>"
            ],
            "text/plain": [
              "   6  0  0.1  0.2  0.3  0.4  ...  0.585  0.586  0.587  0.588  0.589  0.590\n",
              "0  5  0    0    0    0    0  ...      0      0      0      0      0      0\n",
              "1  7  0    0    0    0    0  ...      0      0      0      0      0      0\n",
              "2  9  0    0    0    0    0  ...      0      0      0      0      0      0\n",
              "3  5  0    0    0    0    0  ...      0      0      0      0      0      0\n",
              "4  2  0    0    0    0    0  ...      0      0      0      0      0      0\n",
              "\n",
              "[5 rows x 785 columns]"
            ]
          },
          "metadata": {
            "tags": []
          },
          "execution_count": 2
        }
      ]
    },
    {
      "cell_type": "code",
      "metadata": {
        "colab": {
          "base_uri": "https://localhost:8080/"
        },
        "id": "Z2PMJuaCWttW",
        "outputId": "8eee0c71-be78-428d-babb-524d44a67158"
      },
      "source": [
        "train_data.isnull().any() # No holes in data"
      ],
      "execution_count": 3,
      "outputs": [
        {
          "output_type": "execute_result",
          "data": {
            "text/plain": [
              "6        False\n",
              "0        False\n",
              "0.1      False\n",
              "0.2      False\n",
              "0.3      False\n",
              "         ...  \n",
              "0.586    False\n",
              "0.587    False\n",
              "0.588    False\n",
              "0.589    False\n",
              "0.590    False\n",
              "Length: 785, dtype: bool"
            ]
          },
          "metadata": {
            "tags": []
          },
          "execution_count": 3
        }
      ]
    },
    {
      "cell_type": "code",
      "metadata": {
        "colab": {
          "base_uri": "https://localhost:8080/"
        },
        "id": "w-f0xFXeScui",
        "outputId": "36e93c6a-0bd4-42fb-c33a-97d1723c3d16"
      },
      "source": [
        "train_data.shape"
      ],
      "execution_count": 4,
      "outputs": [
        {
          "output_type": "execute_result",
          "data": {
            "text/plain": [
              "(19999, 785)"
            ]
          },
          "metadata": {
            "tags": []
          },
          "execution_count": 4
        }
      ]
    },
    {
      "cell_type": "code",
      "metadata": {
        "id": "NIUPltnBQJA8"
      },
      "source": [
        "y_train = train_data.pop('6')"
      ],
      "execution_count": 5,
      "outputs": []
    },
    {
      "cell_type": "code",
      "metadata": {
        "colab": {
          "base_uri": "https://localhost:8080/"
        },
        "id": "BhGXmuQqSy3n",
        "outputId": "a5109e02-a76e-43c7-896c-f2feffe381f1"
      },
      "source": [
        "y_train"
      ],
      "execution_count": 6,
      "outputs": [
        {
          "output_type": "execute_result",
          "data": {
            "text/plain": [
              "0        5\n",
              "1        7\n",
              "2        9\n",
              "3        5\n",
              "4        2\n",
              "        ..\n",
              "19994    0\n",
              "19995    1\n",
              "19996    2\n",
              "19997    9\n",
              "19998    5\n",
              "Name: 6, Length: 19999, dtype: int64"
            ]
          },
          "metadata": {
            "tags": []
          },
          "execution_count": 6
        }
      ]
    },
    {
      "cell_type": "code",
      "metadata": {
        "id": "QlW-BeFATNjx"
      },
      "source": [
        "# Split the data\n",
        "from sklearn.model_selection import train_test_split\n",
        "X_train, x_test, y_train, y_test = train_test_split(train_data, y_train, test_size=0.3)"
      ],
      "execution_count": 7,
      "outputs": []
    },
    {
      "cell_type": "code",
      "metadata": {
        "colab": {
          "base_uri": "https://localhost:8080/"
        },
        "id": "0vGi3IklgpUz",
        "outputId": "f6f7b6c6-c33f-45ae-a5eb-42a620463060"
      },
      "source": [
        "x_test.shape"
      ],
      "execution_count": 8,
      "outputs": [
        {
          "output_type": "execute_result",
          "data": {
            "text/plain": [
              "(6000, 784)"
            ]
          },
          "metadata": {
            "tags": []
          },
          "execution_count": 8
        }
      ]
    },
    {
      "cell_type": "code",
      "metadata": {
        "id": "xhzi1b_pg9F5"
      },
      "source": [
        "# Transform the data\n",
        "from sklearn.preprocessing import StandardScaler\n",
        "scaler = StandardScaler()"
      ],
      "execution_count": 9,
      "outputs": []
    },
    {
      "cell_type": "code",
      "metadata": {
        "id": "UcfHs_2RKVXF"
      },
      "source": [
        "x_train_data = scaler.fit_transform(X_train)\n",
        "x_test_data = scaler.transform(x_test)"
      ],
      "execution_count": 10,
      "outputs": []
    },
    {
      "cell_type": "code",
      "metadata": {
        "colab": {
          "base_uri": "https://localhost:8080/"
        },
        "id": "eD7cIkeENkZE",
        "outputId": "06585b96-744c-450f-f564-7fca056a4a75"
      },
      "source": [
        "x_train_data.shape[1]"
      ],
      "execution_count": 11,
      "outputs": [
        {
          "output_type": "execute_result",
          "data": {
            "text/plain": [
              "784"
            ]
          },
          "metadata": {
            "tags": []
          },
          "execution_count": 11
        }
      ]
    },
    {
      "cell_type": "code",
      "metadata": {
        "id": "aBrqOkTxMErc"
      },
      "source": [
        "# Train the algorithm using temsorflow\n",
        "input_shape = [x_train_data.shape[1]]\n",
        "model = keras.Sequential([\n",
        "                          layers.Dense(units= 1024, activation='relu', input_shape= input_shape),\n",
        "                          layers.Dropout(0.3),\n",
        "                          layers.BatchNormalization(),\n",
        "                          layers.Dense(1024, activation='relu'),\n",
        "                          layers.Dropout(0.3),\n",
        "                          layers.BatchNormalization(),\n",
        "                          layers.Dense(784, activation='relu'),\n",
        "                          layers.Dropout(0.3),\n",
        "                          layers.BatchNormalization(),\n",
        "                          layers.Dense(500, activation='relu'),\n",
        "                          layers.Dropout(0.3),\n",
        "                          layers.BatchNormalization(),\n",
        "                          layers.Dense(150, activation='relu'),\n",
        "                          layers.Dropout(0.3),\n",
        "                          layers.BatchNormalization(),\n",
        "                          layers.Dense(10, activation='softmax')\n",
        "])\n",
        "model.compile(optimizer='adam',loss='SparseCategoricalCrossentropy', metrics='accuracy')"
      ],
      "execution_count": 12,
      "outputs": []
    },
    {
      "cell_type": "code",
      "metadata": {
        "id": "nO7ukaRhVyGN"
      },
      "source": [
        "from tensorflow.keras.callbacks import EarlyStopping\n",
        "early_stopping = EarlyStopping(\n",
        "    patience= 20,\n",
        "    min_delta= 0.001,\n",
        "    restore_best_weights = True\n",
        ")"
      ],
      "execution_count": 13,
      "outputs": []
    },
    {
      "cell_type": "code",
      "metadata": {
        "id": "-NMA3Av1d5YY"
      },
      "source": [
        "#from tensorflow.keras.utils import to_categorical\n",
        "#y_train = to_categorical(y_train, 10)\n",
        "#y_test = to_categorical(y_test, 10)"
      ],
      "execution_count": 14,
      "outputs": []
    },
    {
      "cell_type": "code",
      "metadata": {
        "colab": {
          "base_uri": "https://localhost:8080/"
        },
        "id": "kwbyUt_oUQhk",
        "outputId": "5a2c1022-c6dc-4bb3-fc23-3b933b8b50a7"
      },
      "source": [
        "history = model.fit(x_train_data,y_train, validation_data=(x_test_data,y_test),epochs=1000,callbacks=[early_stopping],batch_size= 256)"
      ],
      "execution_count": 15,
      "outputs": [
        {
          "output_type": "stream",
          "text": [
            "Epoch 1/1000\n",
            "55/55 [==============================] - 7s 120ms/step - loss: 0.8165 - accuracy: 0.7448 - val_loss: 0.3373 - val_accuracy: 0.9002\n",
            "Epoch 2/1000\n",
            "55/55 [==============================] - 6s 117ms/step - loss: 0.2825 - accuracy: 0.9166 - val_loss: 0.2269 - val_accuracy: 0.9375\n",
            "Epoch 3/1000\n",
            "55/55 [==============================] - 6s 115ms/step - loss: 0.2031 - accuracy: 0.9394 - val_loss: 0.1989 - val_accuracy: 0.9457\n",
            "Epoch 4/1000\n",
            "55/55 [==============================] - 6s 118ms/step - loss: 0.1543 - accuracy: 0.9535 - val_loss: 0.1921 - val_accuracy: 0.9535\n",
            "Epoch 5/1000\n",
            "55/55 [==============================] - 6s 117ms/step - loss: 0.1230 - accuracy: 0.9616 - val_loss: 0.1995 - val_accuracy: 0.9568\n",
            "Epoch 6/1000\n",
            "55/55 [==============================] - 6s 115ms/step - loss: 0.1083 - accuracy: 0.9668 - val_loss: 0.1743 - val_accuracy: 0.9592\n",
            "Epoch 7/1000\n",
            "55/55 [==============================] - 6s 116ms/step - loss: 0.0848 - accuracy: 0.9746 - val_loss: 0.1902 - val_accuracy: 0.9612\n",
            "Epoch 8/1000\n",
            "55/55 [==============================] - 6s 117ms/step - loss: 0.0744 - accuracy: 0.9758 - val_loss: 0.1803 - val_accuracy: 0.9615\n",
            "Epoch 9/1000\n",
            "55/55 [==============================] - 6s 118ms/step - loss: 0.0639 - accuracy: 0.9786 - val_loss: 0.1777 - val_accuracy: 0.9618\n",
            "Epoch 10/1000\n",
            "55/55 [==============================] - 6s 116ms/step - loss: 0.0610 - accuracy: 0.9796 - val_loss: 0.1733 - val_accuracy: 0.9612\n",
            "Epoch 11/1000\n",
            "55/55 [==============================] - 6s 115ms/step - loss: 0.0592 - accuracy: 0.9819 - val_loss: 0.1786 - val_accuracy: 0.9613\n",
            "Epoch 12/1000\n",
            "55/55 [==============================] - 6s 116ms/step - loss: 0.0466 - accuracy: 0.9851 - val_loss: 0.1752 - val_accuracy: 0.9623\n",
            "Epoch 13/1000\n",
            "55/55 [==============================] - 6s 116ms/step - loss: 0.0406 - accuracy: 0.9872 - val_loss: 0.1820 - val_accuracy: 0.9617\n",
            "Epoch 14/1000\n",
            "55/55 [==============================] - 6s 118ms/step - loss: 0.0454 - accuracy: 0.9853 - val_loss: 0.1816 - val_accuracy: 0.9623\n",
            "Epoch 15/1000\n",
            "55/55 [==============================] - 6s 115ms/step - loss: 0.0469 - accuracy: 0.9849 - val_loss: 0.1770 - val_accuracy: 0.9625\n",
            "Epoch 16/1000\n",
            "55/55 [==============================] - 6s 115ms/step - loss: 0.0370 - accuracy: 0.9882 - val_loss: 0.1790 - val_accuracy: 0.9652\n",
            "Epoch 17/1000\n",
            "55/55 [==============================] - 6s 116ms/step - loss: 0.0312 - accuracy: 0.9894 - val_loss: 0.1729 - val_accuracy: 0.9650\n",
            "Epoch 18/1000\n",
            "55/55 [==============================] - 6s 116ms/step - loss: 0.0326 - accuracy: 0.9899 - val_loss: 0.1722 - val_accuracy: 0.9668\n",
            "Epoch 19/1000\n",
            "55/55 [==============================] - 7s 119ms/step - loss: 0.0307 - accuracy: 0.9896 - val_loss: 0.1819 - val_accuracy: 0.9637\n",
            "Epoch 20/1000\n",
            "55/55 [==============================] - 7s 118ms/step - loss: 0.0269 - accuracy: 0.9913 - val_loss: 0.1645 - val_accuracy: 0.9657\n",
            "Epoch 21/1000\n",
            "55/55 [==============================] - 6s 116ms/step - loss: 0.0275 - accuracy: 0.9913 - val_loss: 0.1734 - val_accuracy: 0.9647\n",
            "Epoch 22/1000\n",
            "55/55 [==============================] - 6s 117ms/step - loss: 0.0251 - accuracy: 0.9918 - val_loss: 0.1833 - val_accuracy: 0.9630\n",
            "Epoch 23/1000\n",
            "55/55 [==============================] - 6s 118ms/step - loss: 0.0240 - accuracy: 0.9922 - val_loss: 0.1866 - val_accuracy: 0.9647\n",
            "Epoch 24/1000\n",
            "55/55 [==============================] - 6s 117ms/step - loss: 0.0233 - accuracy: 0.9924 - val_loss: 0.1914 - val_accuracy: 0.9648\n",
            "Epoch 25/1000\n",
            "55/55 [==============================] - 6s 117ms/step - loss: 0.0242 - accuracy: 0.9921 - val_loss: 0.1834 - val_accuracy: 0.9643\n",
            "Epoch 26/1000\n",
            "55/55 [==============================] - 6s 116ms/step - loss: 0.0298 - accuracy: 0.9906 - val_loss: 0.1763 - val_accuracy: 0.9643\n",
            "Epoch 27/1000\n",
            "55/55 [==============================] - 6s 117ms/step - loss: 0.0234 - accuracy: 0.9925 - val_loss: 0.1777 - val_accuracy: 0.9640\n",
            "Epoch 28/1000\n",
            "55/55 [==============================] - 6s 117ms/step - loss: 0.0207 - accuracy: 0.9929 - val_loss: 0.1650 - val_accuracy: 0.9663\n",
            "Epoch 29/1000\n",
            "55/55 [==============================] - 6s 115ms/step - loss: 0.0186 - accuracy: 0.9941 - val_loss: 0.1916 - val_accuracy: 0.9652\n",
            "Epoch 30/1000\n",
            "55/55 [==============================] - 6s 116ms/step - loss: 0.0268 - accuracy: 0.9918 - val_loss: 0.1826 - val_accuracy: 0.9663\n",
            "Epoch 31/1000\n",
            "55/55 [==============================] - 6s 116ms/step - loss: 0.0244 - accuracy: 0.9923 - val_loss: 0.1844 - val_accuracy: 0.9678\n",
            "Epoch 32/1000\n",
            "55/55 [==============================] - 6s 117ms/step - loss: 0.0190 - accuracy: 0.9944 - val_loss: 0.1843 - val_accuracy: 0.9647\n",
            "Epoch 33/1000\n",
            "55/55 [==============================] - 6s 115ms/step - loss: 0.0214 - accuracy: 0.9934 - val_loss: 0.1838 - val_accuracy: 0.9668\n",
            "Epoch 34/1000\n",
            "55/55 [==============================] - 6s 114ms/step - loss: 0.0158 - accuracy: 0.9949 - val_loss: 0.1632 - val_accuracy: 0.9690\n",
            "Epoch 35/1000\n",
            "55/55 [==============================] - 6s 114ms/step - loss: 0.0179 - accuracy: 0.9934 - val_loss: 0.1743 - val_accuracy: 0.9688\n",
            "Epoch 36/1000\n",
            "55/55 [==============================] - 6s 114ms/step - loss: 0.0176 - accuracy: 0.9949 - val_loss: 0.1685 - val_accuracy: 0.9662\n",
            "Epoch 37/1000\n",
            "55/55 [==============================] - 6s 115ms/step - loss: 0.0146 - accuracy: 0.9954 - val_loss: 0.1736 - val_accuracy: 0.9653\n",
            "Epoch 38/1000\n",
            "55/55 [==============================] - 6s 114ms/step - loss: 0.0147 - accuracy: 0.9952 - val_loss: 0.1736 - val_accuracy: 0.9662\n",
            "Epoch 39/1000\n",
            "55/55 [==============================] - 6s 115ms/step - loss: 0.0112 - accuracy: 0.9961 - val_loss: 0.1924 - val_accuracy: 0.9663\n",
            "Epoch 40/1000\n",
            "55/55 [==============================] - 6s 118ms/step - loss: 0.0102 - accuracy: 0.9969 - val_loss: 0.1884 - val_accuracy: 0.9690\n",
            "Epoch 41/1000\n",
            "55/55 [==============================] - 7s 119ms/step - loss: 0.0105 - accuracy: 0.9961 - val_loss: 0.1930 - val_accuracy: 0.9677\n",
            "Epoch 42/1000\n",
            "55/55 [==============================] - 6s 116ms/step - loss: 0.0128 - accuracy: 0.9958 - val_loss: 0.1873 - val_accuracy: 0.9665\n",
            "Epoch 43/1000\n",
            "55/55 [==============================] - 6s 116ms/step - loss: 0.0146 - accuracy: 0.9961 - val_loss: 0.1862 - val_accuracy: 0.9660\n",
            "Epoch 44/1000\n",
            "55/55 [==============================] - 6s 115ms/step - loss: 0.0113 - accuracy: 0.9968 - val_loss: 0.1873 - val_accuracy: 0.9675\n",
            "Epoch 45/1000\n",
            "55/55 [==============================] - 6s 115ms/step - loss: 0.0130 - accuracy: 0.9956 - val_loss: 0.1870 - val_accuracy: 0.9662\n",
            "Epoch 46/1000\n",
            "55/55 [==============================] - 6s 116ms/step - loss: 0.0147 - accuracy: 0.9958 - val_loss: 0.1822 - val_accuracy: 0.9677\n",
            "Epoch 47/1000\n",
            "55/55 [==============================] - 6s 116ms/step - loss: 0.0150 - accuracy: 0.9949 - val_loss: 0.1813 - val_accuracy: 0.9668\n",
            "Epoch 48/1000\n",
            "55/55 [==============================] - 6s 115ms/step - loss: 0.0145 - accuracy: 0.9958 - val_loss: 0.1910 - val_accuracy: 0.9670\n",
            "Epoch 49/1000\n",
            "55/55 [==============================] - 6s 117ms/step - loss: 0.0136 - accuracy: 0.9954 - val_loss: 0.1903 - val_accuracy: 0.9657\n",
            "Epoch 50/1000\n",
            "55/55 [==============================] - 6s 115ms/step - loss: 0.0139 - accuracy: 0.9954 - val_loss: 0.1891 - val_accuracy: 0.9673\n",
            "Epoch 51/1000\n",
            "55/55 [==============================] - 6s 116ms/step - loss: 0.0144 - accuracy: 0.9965 - val_loss: 0.1905 - val_accuracy: 0.9662\n",
            "Epoch 52/1000\n",
            "55/55 [==============================] - 6s 115ms/step - loss: 0.0100 - accuracy: 0.9967 - val_loss: 0.1933 - val_accuracy: 0.9663\n",
            "Epoch 53/1000\n",
            "55/55 [==============================] - 6s 116ms/step - loss: 0.0113 - accuracy: 0.9962 - val_loss: 0.2022 - val_accuracy: 0.9668\n",
            "Epoch 54/1000\n",
            "55/55 [==============================] - 6s 117ms/step - loss: 0.0148 - accuracy: 0.9958 - val_loss: 0.1984 - val_accuracy: 0.9665\n"
          ],
          "name": "stdout"
        }
      ]
    },
    {
      "cell_type": "code",
      "metadata": {
        "id": "5fAYK2sxyGS-"
      },
      "source": [
        "# Using Pytorch for the same algorithm but different hyperparameters\n",
        "# Hyperparameters:"
      ],
      "execution_count": 37,
      "outputs": []
    },
    {
      "cell_type": "code",
      "metadata": {
        "id": "sOsZyF25y8ml"
      },
      "source": [
        "# Define the model\n",
        "import torch\n",
        "from torch import nn\n",
        "from torch import optim\n",
        "import torch.nn.functional as F\n",
        "#from torchsample.modules import ModuleTrainer\n",
        "\n",
        "# Build the Neural Net\n",
        "class neuNet(nn.Module):\n",
        "  def __init__(self):\n",
        "    super(neuNet,self).__init__()\n",
        "    self.fc1 = nn.Linear(784, 128)\n",
        "    self.fc2 = nn.Linear(128, 64)\n",
        "    self.fc3 = nn.Linear(64,10)\n",
        "    self.dropout = nn.Dropout(0.3)\n",
        "    self.softmax = nn.Softmax(dim=1)\n",
        "\n",
        "  def forward(self, x):\n",
        "    x = F.relu(self.fc1(x))\n",
        "    x = self.dropout(x)\n",
        "    x = F.relu(self.fc2(x))\n",
        "    x = self.dropout(x)\n",
        "    x = F.relu(self.fc3(x))\n",
        "    x = self.softmax(x)\n",
        "    return x\n",
        "\n",
        "\"\"\"\n",
        "pymodel = nn.Sequential(\n",
        "    nn.Linear(784, 1024),\n",
        "    nn.ReLU(), \n",
        "    nn.Linear(1024, 784),\n",
        "    nn.ReLU(),\n",
        "    nn.Linear(784, 500),\n",
        "    nn.ReLU(),\n",
        "    nn.Linear(500, 10)\n",
        ")\n",
        "\"\"\"\n",
        "Net = neuNet()\n",
        "# Specify the loss function\n",
        "loss_func = nn.CrossEntropyLoss()\n",
        "optimizer = optim.SGD(model.parameters(), lr=0.001, momentum=0.9)"
      ],
      "execution_count": 69,
      "outputs": []
    },
    {
      "cell_type": "code",
      "metadata": {
        "colab": {
          "base_uri": "https://localhost:8080/"
        },
        "id": "upt5DZ7eACrb",
        "outputId": "3893c0d6-74bd-46ee-ed5e-0eef423776a6"
      },
      "source": [
        "type(y_train)"
      ],
      "execution_count": 70,
      "outputs": [
        {
          "output_type": "execute_result",
          "data": {
            "text/plain": [
              "pandas.core.series.Series"
            ]
          },
          "metadata": {
            "tags": []
          },
          "execution_count": 70
        }
      ]
    },
    {
      "cell_type": "code",
      "metadata": {
        "id": "OZAfSDRdANPU"
      },
      "source": [
        "# Load x_train, x_test, y_train, y_test into dataloader for easy training\n",
        "import torch.utils.data as data_utils\n",
        "py_data_train = data_utils.TensorDataset(torch.Tensor(x_train_data),torch.Tensor(np.array(y_train)))\n",
        "py_data_valid = data_utils.TensorDataset(torch.Tensor(x_test_data), torch.Tensor(np.array(y_test)))"
      ],
      "execution_count": 71,
      "outputs": []
    },
    {
      "cell_type": "code",
      "metadata": {
        "colab": {
          "base_uri": "https://localhost:8080/"
        },
        "id": "8o7xK76zkSnr",
        "outputId": "e7d22990-36ee-4f87-d3da-404c9a97633e"
      },
      "source": [
        "train_loader = data_utils.DataLoader(py_data_train, batch_size=64, shuffle= True)\n",
        "dataiter = iter(train_loader)\n",
        "images, labels = dataiter.next()\n",
        "images.shape"
      ],
      "execution_count": 72,
      "outputs": [
        {
          "output_type": "execute_result",
          "data": {
            "text/plain": [
              "torch.Size([64, 784])"
            ]
          },
          "metadata": {
            "tags": []
          },
          "execution_count": 72
        }
      ]
    },
    {
      "cell_type": "code",
      "metadata": {
        "colab": {
          "base_uri": "https://localhost:8080/"
        },
        "id": "nurLCnq28ILH",
        "outputId": "72bba567-111b-4ed7-adf9-92e9ee0a2330"
      },
      "source": [
        "# Train the model using 50 epochs\n",
        "epochs = 50\n",
        "train_loader = data_utils.DataLoader(py_data_train, batch_size=64, shuffle= True)\n",
        "for i in range(epochs):\n",
        "  running_loss = 0\n",
        "  for datum, label in train_loader:\n",
        "    datum = datum.view(datum.shape[0], -1)\n",
        "    optimizer.zero_grad()\n",
        "    # Run forward propagation\n",
        "    output = Net(datum)\n",
        "    # Calculate the loss\n",
        "    loss = loss_func(output, label.long())\n",
        "    # Back propagation\n",
        "    loss.backward()\n",
        "    # Update weights\n",
        "    optimizer.step()\n",
        "    running_loss += loss.item()\n",
        "\n",
        "  else:\n",
        "    print(f\"Training loss: {running_loss/len(train_loader)}\")"
      ],
      "execution_count": 75,
      "outputs": [
        {
          "output_type": "stream",
          "text": [
            "Training loss: 2.3033565582205715\n",
            "Training loss: 2.303207119850263\n",
            "Training loss: 2.303394965385193\n",
            "Training loss: 2.303346497827469\n",
            "Training loss: 2.3034050791230922\n",
            "Training loss: 2.3033316135406494\n",
            "Training loss: 2.303361401710336\n",
            "Training loss: 2.3034585229882367\n",
            "Training loss: 2.303335343321709\n",
            "Training loss: 2.303381247063206\n",
            "Training loss: 2.3033407616288692\n",
            "Training loss: 2.303426476918399\n",
            "Training loss: 2.3032656957025397\n",
            "Training loss: 2.303336275222639\n",
            "Training loss: 2.3034109209226146\n",
            "Training loss: 2.3033754444557784\n",
            "Training loss: 2.3033659262199926\n",
            "Training loss: 2.303357956071967\n",
            "Training loss: 2.303387648438754\n",
            "Training loss: 2.303410609563192\n",
            "Training loss: 2.3032571278750624\n",
            "Training loss: 2.303330851472132\n",
            "Training loss: 2.3034135402609768\n",
            "Training loss: 2.3033160096434155\n",
            "Training loss: 2.303325840327293\n",
            "Training loss: 2.303359227637722\n",
            "Training loss: 2.3034232511912305\n",
            "Training loss: 2.3032987411708046\n",
            "Training loss: 2.303321781768102\n",
            "Training loss: 2.3033292685469537\n",
            "Training loss: 2.3033952146904655\n",
            "Training loss: 2.30335461712319\n",
            "Training loss: 2.303402438011344\n",
            "Training loss: 2.3033472337679233\n",
            "Training loss: 2.303346523955532\n",
            "Training loss: 2.303355981225837\n",
            "Training loss: 2.303310680607138\n",
            "Training loss: 2.3033353879571505\n",
            "Training loss: 2.3033427571597165\n",
            "Training loss: 2.303281901633903\n",
            "Training loss: 2.3034253610323554\n",
            "Training loss: 2.3033761564455077\n",
            "Training loss: 2.303321228724092\n",
            "Training loss: 2.303349596180328\n",
            "Training loss: 2.3033769925435386\n",
            "Training loss: 2.3034014288148925\n",
            "Training loss: 2.303350321234089\n",
            "Training loss: 2.303366478175333\n",
            "Training loss: 2.3033292565715913\n",
            "Training loss: 2.3033713946059415\n"
          ],
          "name": "stdout"
        }
      ]
    },
    {
      "cell_type": "code",
      "metadata": {
        "colab": {
          "base_uri": "https://localhost:8080/",
          "height": 197
        },
        "id": "r5N7BhidTSiG",
        "outputId": "1c0f5079-0c1f-4d7a-9173-2b284d80e941"
      },
      "source": [
        "history_df = pd.DataFrame(history.history)\n",
        "history_df.head()"
      ],
      "execution_count": null,
      "outputs": [
        {
          "output_type": "execute_result",
          "data": {
            "text/html": [
              "<div>\n",
              "<style scoped>\n",
              "    .dataframe tbody tr th:only-of-type {\n",
              "        vertical-align: middle;\n",
              "    }\n",
              "\n",
              "    .dataframe tbody tr th {\n",
              "        vertical-align: top;\n",
              "    }\n",
              "\n",
              "    .dataframe thead th {\n",
              "        text-align: right;\n",
              "    }\n",
              "</style>\n",
              "<table border=\"1\" class=\"dataframe\">\n",
              "  <thead>\n",
              "    <tr style=\"text-align: right;\">\n",
              "      <th></th>\n",
              "      <th>loss</th>\n",
              "      <th>accuracy</th>\n",
              "      <th>val_loss</th>\n",
              "      <th>val_accuracy</th>\n",
              "    </tr>\n",
              "  </thead>\n",
              "  <tbody>\n",
              "    <tr>\n",
              "      <th>0</th>\n",
              "      <td>0.666939</td>\n",
              "      <td>0.790342</td>\n",
              "      <td>0.390116</td>\n",
              "      <td>0.882000</td>\n",
              "    </tr>\n",
              "    <tr>\n",
              "      <th>1</th>\n",
              "      <td>0.230747</td>\n",
              "      <td>0.930852</td>\n",
              "      <td>0.230893</td>\n",
              "      <td>0.932500</td>\n",
              "    </tr>\n",
              "    <tr>\n",
              "      <th>2</th>\n",
              "      <td>0.171133</td>\n",
              "      <td>0.947353</td>\n",
              "      <td>0.195543</td>\n",
              "      <td>0.945167</td>\n",
              "    </tr>\n",
              "    <tr>\n",
              "      <th>3</th>\n",
              "      <td>0.136472</td>\n",
              "      <td>0.956068</td>\n",
              "      <td>0.206694</td>\n",
              "      <td>0.948833</td>\n",
              "    </tr>\n",
              "    <tr>\n",
              "      <th>4</th>\n",
              "      <td>0.105431</td>\n",
              "      <td>0.965069</td>\n",
              "      <td>0.199542</td>\n",
              "      <td>0.952833</td>\n",
              "    </tr>\n",
              "  </tbody>\n",
              "</table>\n",
              "</div>"
            ],
            "text/plain": [
              "       loss  accuracy  val_loss  val_accuracy\n",
              "0  0.666939  0.790342  0.390116      0.882000\n",
              "1  0.230747  0.930852  0.230893      0.932500\n",
              "2  0.171133  0.947353  0.195543      0.945167\n",
              "3  0.136472  0.956068  0.206694      0.948833\n",
              "4  0.105431  0.965069  0.199542      0.952833"
            ]
          },
          "metadata": {
            "tags": []
          },
          "execution_count": 21
        }
      ]
    },
    {
      "cell_type": "code",
      "metadata": {
        "colab": {
          "base_uri": "https://localhost:8080/",
          "height": 282
        },
        "id": "xnYC6uFCsoJ2",
        "outputId": "c3aa7349-49eb-422f-b851-5830bd32d4c9"
      },
      "source": [
        "history_df[['loss', 'val_loss']].plot()"
      ],
      "execution_count": null,
      "outputs": [
        {
          "output_type": "execute_result",
          "data": {
            "text/plain": [
              "<matplotlib.axes._subplots.AxesSubplot at 0x7f68e26ebd30>"
            ]
          },
          "metadata": {
            "tags": []
          },
          "execution_count": 23
        },
        {
          "output_type": "display_data",
          "data": {
            "image/png": "[encoded data removed]",
            "text/plain": [
              "<Figure size 432x288 with 1 Axes>"
            ]
          },
          "metadata": {
            "tags": [],
            "needs_background": "light"
          }
        }
      ]
    },
    {
      "cell_type": "code",
      "metadata": {
        "colab": {
          "base_uri": "https://localhost:8080/"
        },
        "id": "q_YU0qbXaSXn",
        "outputId": "03caf9f9-ae69-4fc3-f52c-cbb7fa2297b4"
      },
      "source": [
        "y_train"
      ],
      "execution_count": null,
      "outputs": [
        {
          "output_type": "execute_result",
          "data": {
            "text/plain": [
              "17048    5\n",
              "10070    6\n",
              "13382    4\n",
              "8843     5\n",
              "13824    0\n",
              "        ..\n",
              "869      7\n",
              "12266    0\n",
              "4887     7\n",
              "1083     4\n",
              "11042    7\n",
              "Name: 6, Length: 13999, dtype: int64"
            ]
          },
          "metadata": {
            "tags": []
          },
          "execution_count": 75
        }
      ]
    },
    {
      "cell_type": "code",
      "metadata": {
        "id": "gAWMVwJtsjqS"
      },
      "source": [
        ""
      ],
      "execution_count": null,
      "outputs": []
    },
    {
      "cell_type": "code",
      "metadata": {
        "id": "LWKP49IV4G9D"
      },
      "source": [
        "# Using Pytorch"
      ],
      "execution_count": null,
      "outputs": []
    },
    {
      "cell_type": "code",
      "metadata": {
        "id": "zehFDuWKTgc5"
      },
      "source": [
        "import geopandas as gpd\n",
        "import matplotlib.pyplot as plt\n",
        "import folium\n",
        "from folium.plugins import MarkerCluster\n",
        "from folium import Marker"
      ],
      "execution_count": null,
      "outputs": []
    },
    {
      "cell_type": "code",
      "metadata": {
        "id": "lyIvlbceTkYu"
      },
      "source": [
        "train_gdf = gpd.GeoDataFrame(train_data, geometry=gpd.points_from_xy(train_data.longitude, train_data.latitude))"
      ],
      "execution_count": null,
      "outputs": []
    },
    {
      "cell_type": "code",
      "metadata": {
        "colab": {
          "base_uri": "https://localhost:8080/",
          "height": 197
        },
        "id": "kiF2AUUmCZEj",
        "outputId": "654b7d4b-fb05-4646-ada1-f851514bb637"
      },
      "source": [
        "train_gdf.head()"
      ],
      "execution_count": null,
      "outputs": [
        {
          "output_type": "execute_result",
          "data": {
            "text/html": [
              "<div>\n",
              "<style scoped>\n",
              "    .dataframe tbody tr th:only-of-type {\n",
              "        vertical-align: middle;\n",
              "    }\n",
              "\n",
              "    .dataframe tbody tr th {\n",
              "        vertical-align: top;\n",
              "    }\n",
              "\n",
              "    .dataframe thead th {\n",
              "        text-align: right;\n",
              "    }\n",
              "</style>\n",
              "<table border=\"1\" class=\"dataframe\">\n",
              "  <thead>\n",
              "    <tr style=\"text-align: right;\">\n",
              "      <th></th>\n",
              "      <th>longitude</th>\n",
              "      <th>latitude</th>\n",
              "      <th>housing_median_age</th>\n",
              "      <th>total_rooms</th>\n",
              "      <th>total_bedrooms</th>\n",
              "      <th>population</th>\n",
              "      <th>households</th>\n",
              "      <th>median_income</th>\n",
              "      <th>median_house_value</th>\n",
              "      <th>geometry</th>\n",
              "    </tr>\n",
              "  </thead>\n",
              "  <tbody>\n",
              "    <tr>\n",
              "      <th>0</th>\n",
              "      <td>-114.31</td>\n",
              "      <td>34.19</td>\n",
              "      <td>15.0</td>\n",
              "      <td>5612.0</td>\n",
              "      <td>1283.0</td>\n",
              "      <td>1015.0</td>\n",
              "      <td>472.0</td>\n",
              "      <td>1.4936</td>\n",
              "      <td>66900.0</td>\n",
              "      <td>POINT (-114.31000 34.19000)</td>\n",
              "    </tr>\n",
              "    <tr>\n",
              "      <th>1</th>\n",
              "      <td>-114.47</td>\n",
              "      <td>34.40</td>\n",
              "      <td>19.0</td>\n",
              "      <td>7650.0</td>\n",
              "      <td>1901.0</td>\n",
              "      <td>1129.0</td>\n",
              "      <td>463.0</td>\n",
              "      <td>1.8200</td>\n",
              "      <td>80100.0</td>\n",
              "      <td>POINT (-114.47000 34.40000)</td>\n",
              "    </tr>\n",
              "    <tr>\n",
              "      <th>2</th>\n",
              "      <td>-114.56</td>\n",
              "      <td>33.69</td>\n",
              "      <td>17.0</td>\n",
              "      <td>720.0</td>\n",
              "      <td>174.0</td>\n",
              "      <td>333.0</td>\n",
              "      <td>117.0</td>\n",
              "      <td>1.6509</td>\n",
              "      <td>85700.0</td>\n",
              "      <td>POINT (-114.56000 33.69000)</td>\n",
              "    </tr>\n",
              "    <tr>\n",
              "      <th>3</th>\n",
              "      <td>-114.57</td>\n",
              "      <td>33.64</td>\n",
              "      <td>14.0</td>\n",
              "      <td>1501.0</td>\n",
              "      <td>337.0</td>\n",
              "      <td>515.0</td>\n",
              "      <td>226.0</td>\n",
              "      <td>3.1917</td>\n",
              "      <td>73400.0</td>\n",
              "      <td>POINT (-114.57000 33.64000)</td>\n",
              "    </tr>\n",
              "    <tr>\n",
              "      <th>4</th>\n",
              "      <td>-114.57</td>\n",
              "      <td>33.57</td>\n",
              "      <td>20.0</td>\n",
              "      <td>1454.0</td>\n",
              "      <td>326.0</td>\n",
              "      <td>624.0</td>\n",
              "      <td>262.0</td>\n",
              "      <td>1.9250</td>\n",
              "      <td>65500.0</td>\n",
              "      <td>POINT (-114.57000 33.57000)</td>\n",
              "    </tr>\n",
              "  </tbody>\n",
              "</table>\n",
              "</div>"
            ],
            "text/plain": [
              "   longitude  latitude  ...  median_house_value                     geometry\n",
              "0    -114.31     34.19  ...             66900.0  POINT (-114.31000 34.19000)\n",
              "1    -114.47     34.40  ...             80100.0  POINT (-114.47000 34.40000)\n",
              "2    -114.56     33.69  ...             85700.0  POINT (-114.56000 33.69000)\n",
              "3    -114.57     33.64  ...             73400.0  POINT (-114.57000 33.64000)\n",
              "4    -114.57     33.57  ...             65500.0  POINT (-114.57000 33.57000)\n",
              "\n",
              "[5 rows x 10 columns]"
            ]
          },
          "metadata": {
            "tags": []
          },
          "execution_count": 10
        }
      ]
    },
    {
      "cell_type": "code",
      "metadata": {
        "colab": {
          "background_save": true
        },
        "id": "iQ70GdecCd_M",
        "outputId": "ba2e6660-eea2-4322-e2a6-8264771ad910"
      },
      "source": [
        "# Plot in a data\n",
        "m = folium.Map(location=[34.19, -114.31], tiles = 'openstreetmap', zoom_start =10)\n",
        "\n",
        "for id, rows in train_gdf.iterrows():\n",
        "  Marker([rows.latitude, rows.longitude]).add_to(m)"
      ],
      "execution_count": null,
      "outputs": [
        {
          "output_type": "error",
          "ename": "NameError",
          "evalue": "ignored",
          "traceback": [
            "\u001b[0;31m---------------------------------------------------------------------------\u001b[0m",
            "\u001b[0;31mNameError\u001b[0m                                 Traceback (most recent call last)",
            "\u001b[0;32m<ipython-input-13-647b1af34461>\u001b[0m in \u001b[0;36m<module>\u001b[0;34m()\u001b[0m\n\u001b[1;32m      1\u001b[0m \u001b[0;31m# Plot in a data\u001b[0m\u001b[0;34m\u001b[0m\u001b[0;34m\u001b[0m\u001b[0;34m\u001b[0m\u001b[0m\n\u001b[1;32m      2\u001b[0m \u001b[0mm\u001b[0m \u001b[0;34m=\u001b[0m \u001b[0mfolium\u001b[0m\u001b[0;34m.\u001b[0m\u001b[0mMap\u001b[0m\u001b[0;34m(\u001b[0m\u001b[0mlocation\u001b[0m\u001b[0;34m=\u001b[0m\u001b[0;34m[\u001b[0m\u001b[0;36m34.19\u001b[0m\u001b[0;34m,\u001b[0m \u001b[0;34m-\u001b[0m\u001b[0;36m114.31\u001b[0m\u001b[0;34m]\u001b[0m\u001b[0;34m,\u001b[0m \u001b[0mtiles\u001b[0m \u001b[0;34m=\u001b[0m \u001b[0;34m'openstreetmap'\u001b[0m\u001b[0;34m,\u001b[0m \u001b[0mzoom_start\u001b[0m \u001b[0;34m=\u001b[0m\u001b[0;36m10\u001b[0m\u001b[0;34m)\u001b[0m\u001b[0;34m\u001b[0m\u001b[0;34m\u001b[0m\u001b[0m\n\u001b[0;32m----> 3\u001b[0;31m \u001b[0mmc\u001b[0m \u001b[0;34m=\u001b[0m \u001b[0mMarkerCLuster\u001b[0m\u001b[0;34m(\u001b[0m\u001b[0;34m)\u001b[0m\u001b[0;34m\u001b[0m\u001b[0;34m\u001b[0m\u001b[0m\n\u001b[0m\u001b[1;32m      4\u001b[0m \u001b[0;32mfor\u001b[0m \u001b[0mid\u001b[0m\u001b[0;34m,\u001b[0m \u001b[0mrows\u001b[0m \u001b[0;32min\u001b[0m \u001b[0mtrain_gdf\u001b[0m\u001b[0;34m.\u001b[0m\u001b[0miterrows\u001b[0m\u001b[0;34m(\u001b[0m\u001b[0;34m)\u001b[0m\u001b[0;34m:\u001b[0m\u001b[0;34m\u001b[0m\u001b[0;34m\u001b[0m\u001b[0m\n\u001b[1;32m      5\u001b[0m   \u001b[0;32mif\u001b[0m \u001b[0;32mnot\u001b[0m \u001b[0mmath\u001b[0m\u001b[0;34m.\u001b[0m\u001b[0misnan\u001b[0m\u001b[0;34m(\u001b[0m\u001b[0mrows\u001b[0m\u001b[0;34m.\u001b[0m\u001b[0mlongitude\u001b[0m\u001b[0;34m)\u001b[0m \u001b[0;32mand\u001b[0m \u001b[0;32mnot\u001b[0m \u001b[0mmath\u001b[0m\u001b[0;34m.\u001b[0m\u001b[0misnan\u001b[0m\u001b[0;34m(\u001b[0m\u001b[0mrows\u001b[0m\u001b[0;34m.\u001b[0m\u001b[0mlatitude\u001b[0m\u001b[0;34m)\u001b[0m\u001b[0;34m:\u001b[0m\u001b[0;34m\u001b[0m\u001b[0;34m\u001b[0m\u001b[0m\n",
            "\u001b[0;31mNameError\u001b[0m: name 'MarkerCLuster' is not defined"
          ]
        }
      ]
    },
    {
      "cell_type": "code",
      "metadata": {
        "colab": {
          "background_save": true,
          "base_uri": "https://localhost:8080/"
        },
        "id": "WQThjkL5Dsqq",
        "outputId": "0b7dfb05-ceab-4881-e9c7-8ee5cc84982f"
      },
      "source": [
        "m"
      ],
      "execution_count": null,
      "outputs": [
        {
          "output_type": "execute_result",
          "data": {
            "text/html": [
              "<div style=\"width:100%;\"><div style=\"position:relative;width:100%;height:0;padding-bottom:60%;\"><span style=\"color:#565656\">Make this Notebook Trusted to load map: File -> Trust Notebook</span><iframe src=\"about:blank\" style=\"position:absolute;width:100%;height:100%;left:0;top:0;border:none !important;\" data-html=PCFET0NUWVBFIGh0bWw+CjxoZWFkPiAgICAKICAgIDxtZXRhIGh0dHAtZXF1aXY9ImNvbnRlbnQtdHlwZSIgY29udGVudD0idGV4dC9odG1sOyBjaGFyc2V0PVVURi04IiAvPgogICAgPHNjcmlwdD5MX1BSRUZFUl9DQU5WQVM9ZmFsc2U7IExfTk9fVE9VQ0g9ZmFsc2U7IExfRElTQUJMRV8zRD1mYWxzZTs8L3NjcmlwdD4KICAgIDxzY3JpcHQgc3JjPSJodHRwczovL2Nkbi5qc2RlbGl2ci5uZXQvbnBtL2xlYWZsZXRAMS40LjAvZGlzdC9sZWFmbGV0LmpzIj48L3NjcmlwdD4KICAgIDxzY3JpcHQgc3JjPSJodHRwczovL2NvZGUuanF1ZXJ5LmNvbS9qcXVlcnktMS4xMi40Lm1pbi5qcyI+PC9zY3JpcHQ+CiAgICA8c2NyaXB0IHNyYz0iaHR0cHM6Ly9tYXhjZG4uYm9vdHN0cmFwY2RuLmNvbS9ib290c3RyYXAvMy4yLjAvanMvYm9vdHN0cmFwLm1pbi5qcyI+PC9zY3JpcHQ+CiAgICA8c2NyaXB0IHNyYz0iaHR0cHM6Ly9jZG5qcy5jbG91ZGZsYXJlLmNvbS9hamF4L2xpYnMvTGVhZmxldC5hd2Vzb21lLW1hcmtlcnMvMi4wLjIvbGVhZmxldC5hd2Vzb21lLW1hcmtlcnMuanMiPjwvc2NyaXB0PgogICAgPGxpbmsgcmVsPSJzdHlsZXNoZWV0IiBocmVmPSJodHRwczovL2Nkbi5qc2RlbGl2ci5uZXQvbnBtL2xlYWZsZXRAMS40LjAvZGlzdC9sZWFmbGV0LmNzcyIvPgogICAgPGxpbmsgcmVsPSJzdHlsZXNoZWV0IiBocmVmPSJodHRwczovL21heGNkbi5ib290c3RyYXBjZG4uY29tL2Jvb3RzdHJhcC8zLjIuMC9jc3MvYm9vdHN0cmFwLm1pbi5jc3MiLz4KICAgIDxsaW5rIHJlbD0ic3R5bGVzaGVldCIgaHJlZj0iaHR0cHM6Ly9tYXhjZG4uYm9vdHN0cmFwY2RuLmNvbS9ib290c3RyYXAvMy4yLjAvY3NzL2Jvb3RzdHJhcC10aGVtZS5taW4uY3NzIi8+CiAgICA8bGluayByZWw9InN0eWxlc2hlZXQiIGhyZWY9Imh0dHBzOi8vbWF4Y2RuLmJvb3RzdHJhcGNkbi5jb20vZm9udC1hd2Vzb21lLzQuNi4zL2Nzcy9mb250LWF3ZXNvbWUubWluLmNzcyIvPgogICAgPGxpbmsgcmVsPSJzdHlsZXNoZWV0IiBocmVmPSJodHRwczovL2NkbmpzLmNsb3VkZmxhcmUuY29tL2FqYXgvbGlicy9MZWFmbGV0LmF3ZXNvbWUtbWFya2Vycy8yLjAuMi9sZWFmbGV0LmF3ZXNvbWUtbWFya2Vycy5jc3MiLz4KICAgIDxsaW5rIHJlbD0ic3R5bGVzaGVldCIgaHJlZj0iaHR0cHM6Ly9yYXdjZG4uZ2l0aGFjay5jb20vcHl0aG9uLXZpc3VhbGl6YXRpb24vZm9saXVtL21hc3Rlci9mb2xpdW0vdGVtcGxhdGVzL2xlYWZsZXQuYXdlc29tZS5yb3RhdGUuY3NzIi8+CiAgICA8c3R5bGU+aHRtbCwgYm9keSB7d2lkdGg6IDEwMCU7aGVpZ2h0OiAxMDAlO21hcmdpbjogMDtwYWRkaW5nOiAwO308L3N0eWxlPgogICAgPHN0eWxlPiNtYXAge3Bvc2l0aW9uOmFic29sdXRlO3RvcDowO2JvdHRvbTowO3JpZ2h0OjA7bGVmdDowO308L3N0eWxlPgogICAgCiAgICA8bWV0YSBuYW1lPSJ2aWV3cG9ydCIgY29udGVudD0id2lkdGg9ZGV2aWNlLXdpZHRoLAogICAgICAgIGluaXRpYWwtc2NhbGU9MS4wLCBtYXhpbXVtLXNjYWxlPTEuMCwgdXNlci1zY2FsYWJsZT1ubyIgLz4KICAgIDxzdHlsZT4jbWFwXzhiNjBmMjA2MTI1NTQyZGZiN2UyOGY1MzEyYTI0MjQyIHsKICAgICAgICBwb3NpdGlvbjogcmVsYXRpdmU7CiAgICAgICAgd2lkdGg6IDEwMC4wJTsKICAgICAgICBoZWlnaHQ6IDEwMC4wJTsKICAgICAgICBsZWZ0OiAwLjAlOwogICAgICAgIHRvcDogMC4wJTsKICAgICAgICB9CiAgICA8L3N0eWxlPgo8L2hlYWQ+Cjxib2R5PiAgICAKICAgIAogICAgPGRpdiBjbGFzcz0iZm9saXVtLW1hcCIgaWQ9Im1hcF84YjYwZjIwNjEyNTU0MmRmYjdlMjhmNTMxMmEyNDI0MiIgPjwvZGl2Pgo8L2JvZHk+CjxzY3JpcHQ+ICAgIAogICAgCiAgICAKICAgICAgICB2YXIgYm91bmRzID0gbnVsbDsKICAgIAoKICAgIHZhciBtYXBfOGI2MGYyMDYxMjU1NDJkZmI3ZTI4ZjUzMTJhMjQyNDIgPSBMLm1hcCgKICAgICAgICAnbWFwXzhiNjBmMjA2MTI1NTQyZGZiN2UyOGY1MzEyYTI0MjQyJywgewogICAgICAgIGNlbnRlcjogWzM0LjE5LCAtMTE0LjMxXSwKICAgICAgICB6b29tOiAxMCwKICAgICAgICBtYXhCb3VuZHM6IGJvdW5kcywKICAgICAgICBsYXllcnM6IFtdLAogICAgICAgIHdvcmxkQ29weUp1bXA6IGZhbHNlLAogICAgICAgIGNyczogTC5DUlMuRVBTRzM4NTcsCiAgICAgICAgem9vbUNvbnRyb2w6IHRydWUsCiAgICAgICAgfSk7CgoKICAgIAogICAgdmFyIHRpbGVfbGF5ZXJfZjA3ZGIyYWZjZDE2NGRhMGJjYTkzNTAzMmNiOTUzNzIgPSBMLnRpbGVMYXllcigKICAgICAgICAnaHR0cHM6Ly97c30udGlsZS5vcGVuc3RyZWV0bWFwLm9yZy97en0ve3h9L3t5fS5wbmcnLAogICAgICAgIHsKICAgICAgICAiYXR0cmlidXRpb24iOiBudWxsLAogICAgICAgICJkZXRlY3RSZXRpbmEiOiBmYWxzZSwKICAgICAgICAibWF4TmF0aXZlWm9vbSI6IDE4LAogICAgICAgICJtYXhab29tIjogMTgsCiAgICAgICAgIm1pblpvb20iOiAwLAogICAgICAgICJub1dyYXAiOiBmYWxzZSwKICAgICAgICAib3BhY2l0eSI6IDEsCiAgICAgICAgInN1YmRvbWFpbnMiOiAiYWJjIiwKICAgICAgICAidG1zIjogZmFsc2UKfSkuYWRkVG8obWFwXzhiNjBmMjA2MTI1NTQyZGZiN2UyOGY1MzEyYTI0MjQyKTsKPC9zY3JpcHQ+ onload=\"this.contentDocument.open();this.contentDocument.write(atob(this.getAttribute('data-html')));this.contentDocument.close();\" allowfullscreen webkitallowfullscreen mozallowfullscreen></iframe></div></div>"
            ],
            "text/plain": [
              "<folium.folium.Map at 0x7f2e78664588>"
            ]
          },
          "metadata": {
            "tags": []
          },
          "execution_count": 0
        }
      ]
    },
    {
      "cell_type": "code",
      "metadata": {
        "id": "vyxslQQsVylR"
      },
      "source": [
        "# So, create a simple linear model using pytorch and tensorflow"
      ],
      "execution_count": null,
      "outputs": []
    },
    {
      "cell_type": "code",
      "metadata": {
        "id": "nD71jDVUXnZj"
      },
      "source": [
        "input_shape = [11]"
      ],
      "execution_count": null,
      "outputs": []
    },
    {
      "cell_type": "code",
      "metadata": {
        "id": "riJGxh6AXEjp"
      },
      "source": [
        "# Tensorflow\n",
        "model = keras.Sequential([layers.Dense(units= 1, input_shape= input_shape)])"
      ],
      "execution_count": null,
      "outputs": []
    },
    {
      "cell_type": "code",
      "metadata": {
        "colab": {
          "base_uri": "https://localhost:8080/"
        },
        "id": "G5zjOJ3MaaqL",
        "outputId": "640a7548-27fd-47aa-93f3-5fe3f5390685"
      },
      "source": [
        "w,b = model.weights\n",
        "print(w)\n",
        "print(b)"
      ],
      "execution_count": null,
      "outputs": [
        {
          "output_type": "stream",
          "text": [
            "<tf.Variable 'dense/kernel:0' shape=(11, 1) dtype=float32, numpy=\n",
            "array([[ 0.03263664],\n",
            "       [ 0.31583208],\n",
            "       [ 0.49245983],\n",
            "       [-0.5479635 ],\n",
            "       [-0.51875657],\n",
            "       [-0.00132865],\n",
            "       [ 0.3119052 ],\n",
            "       [ 0.411233  ],\n",
            "       [-0.46420488],\n",
            "       [-0.5085629 ],\n",
            "       [-0.48251295]], dtype=float32)>\n",
            "<tf.Variable 'dense/bias:0' shape=(1,) dtype=float32, numpy=array([0.], dtype=float32)>\n"
          ],
          "name": "stdout"
        }
      ]
    },
    {
      "cell_type": "code",
      "metadata": {
        "id": "3tDMpBVWX-o5"
      },
      "source": [
        "# Pytorch\n",
        "from torch import nn\n",
        "torchmodel= nn.Sequential(nn.Linear(input_shape[0], 1))"
      ],
      "execution_count": null,
      "outputs": []
    },
    {
      "cell_type": "code",
      "metadata": {
        "colab": {
          "base_uri": "https://localhost:8080/",
          "height": 282
        },
        "id": "3ikniDeaY7lS",
        "outputId": "38d7a3a0-6628-46ec-e9f8-4f4ee7307ee0"
      },
      "source": [
        "torchmodel."
      ],
      "execution_count": null,
      "outputs": [
        {
          "output_type": "error",
          "ename": "ModuleAttributeError",
          "evalue": "ignored",
          "traceback": [
            "\u001b[0;31m---------------------------------------------------------------------------\u001b[0m",
            "\u001b[0;31mModuleAttributeError\u001b[0m                      Traceback (most recent call last)",
            "\u001b[0;32m<ipython-input-15-c1fc93e0f0c3>\u001b[0m in \u001b[0;36m<module>\u001b[0;34m()\u001b[0m\n\u001b[0;32m----> 1\u001b[0;31m \u001b[0mtorchmodel\u001b[0m\u001b[0;34m.\u001b[0m\u001b[0mweight\u001b[0m\u001b[0;34m\u001b[0m\u001b[0;34m\u001b[0m\u001b[0m\n\u001b[0m",
            "\u001b[0;32m/usr/local/lib/python3.6/dist-packages/torch/nn/modules/module.py\u001b[0m in \u001b[0;36m__getattr__\u001b[0;34m(self, name)\u001b[0m\n\u001b[1;32m    770\u001b[0m                 \u001b[0;32mreturn\u001b[0m \u001b[0mmodules\u001b[0m\u001b[0;34m[\u001b[0m\u001b[0mname\u001b[0m\u001b[0;34m]\u001b[0m\u001b[0;34m\u001b[0m\u001b[0;34m\u001b[0m\u001b[0m\n\u001b[1;32m    771\u001b[0m         raise ModuleAttributeError(\"'{}' object has no attribute '{}'\".format(\n\u001b[0;32m--> 772\u001b[0;31m             type(self).__name__, name))\n\u001b[0m\u001b[1;32m    773\u001b[0m \u001b[0;34m\u001b[0m\u001b[0m\n\u001b[1;32m    774\u001b[0m     \u001b[0;32mdef\u001b[0m \u001b[0m__setattr__\u001b[0m\u001b[0;34m(\u001b[0m\u001b[0mself\u001b[0m\u001b[0;34m,\u001b[0m \u001b[0mname\u001b[0m\u001b[0;34m:\u001b[0m \u001b[0mstr\u001b[0m\u001b[0;34m,\u001b[0m \u001b[0mvalue\u001b[0m\u001b[0;34m:\u001b[0m \u001b[0mUnion\u001b[0m\u001b[0;34m[\u001b[0m\u001b[0mTensor\u001b[0m\u001b[0;34m,\u001b[0m \u001b[0;34m'Module'\u001b[0m\u001b[0;34m]\u001b[0m\u001b[0;34m)\u001b[0m \u001b[0;34m->\u001b[0m \u001b[0;32mNone\u001b[0m\u001b[0;34m:\u001b[0m\u001b[0;34m\u001b[0m\u001b[0;34m\u001b[0m\u001b[0m\n",
            "\u001b[0;31mModuleAttributeError\u001b[0m: 'Sequential' object has no attribute 'weight'"
          ]
        }
      ]
    }
  ]
}